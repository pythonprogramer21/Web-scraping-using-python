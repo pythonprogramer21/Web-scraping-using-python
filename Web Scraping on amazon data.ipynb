{
 "cells": [
  {
   "cell_type": "code",
   "execution_count": 1,
   "id": "10c3929e",
   "metadata": {},
   "outputs": [],
   "source": [
    "import requests\n",
    "from bs4 import BeautifulSoup\n",
    "import pandas as pd"
   ]
  },
  {
   "cell_type": "code",
   "execution_count": 4,
   "id": "de21a6d1",
   "metadata": {},
   "outputs": [],
   "source": [
    "url=\"https://www.amazon.in/s?k=gaming&crid=1QBJ1H6UU4F9S&sprefix=gaming%2Caps%2C428&ref=nb_sb_noss_2\""
   ]
  },
  {
   "cell_type": "code",
   "execution_count": 3,
   "id": "8bffda51",
   "metadata": {},
   "outputs": [],
   "source": [
    "header=({'User-Agent':'', 'Accept-Language':'en-US, en;q=0.5'})"
   ]
  },
  {
   "cell_type": "code",
   "execution_count": 5,
   "id": "da3bab1d",
   "metadata": {},
   "outputs": [],
   "source": [
    "r=requests.get(url,headers=header)"
   ]
  },
  {
   "cell_type": "code",
   "execution_count": 6,
   "id": "f8dc938a",
   "metadata": {},
   "outputs": [
    {
     "data": {
      "text/plain": [
       "<Response [200]>"
      ]
     },
     "execution_count": 6,
     "metadata": {},
     "output_type": "execute_result"
    }
   ],
   "source": [
    "r"
   ]
  },
  {
   "cell_type": "code",
   "execution_count": 8,
   "id": "1690f482",
   "metadata": {},
   "outputs": [],
   "source": [
    "soup=BeautifulSoup(r.content,'html.parser')"
   ]
  },
  {
   "cell_type": "code",
   "execution_count": 9,
   "id": "17fc16f4",
   "metadata": {},
   "outputs": [],
   "source": [
    "link=soup.find_all('a', attrs={'class':'a-link-normal s-underline-text s-underline-link-text s-link-style a-text-normal'})"
   ]
  },
  {
   "cell_type": "code",
   "execution_count": 10,
   "id": "0050f91d",
   "metadata": {},
   "outputs": [
    {
     "name": "stdout",
     "output_type": "stream",
     "text": [
      "[<a class=\"a-link-normal s-underline-text s-underline-link-text s-link-style a-text-normal\" href=\"/sspa/click?ie=UTF8&amp;spc=MTo0MTUyNTAwODY1ODA4OTIzOjE2ODc1OTgzNTU6c3BfYXRmOjIwMDU3ODA0MjY2MjA3OjowOjo&amp;url=%2FJBL-Quantum-Over-Ear-Headset-Detachable%2Fdp%2FB083X24CFF%2Fref%3Dsr_1_1_sspa%3Fcrid%3D1QBJ1H6UU4F9S%26keywords%3Dgaming%26qid%3D1687598355%26sprefix%3Dgaming%252Caps%252C428%26sr%3D8-1-spons%26sp_csd%3Dd2lkZ2V0TmFtZT1zcF9hdGY%26psc%3D1\" target=\"_blank\"><span class=\"a-size-medium a-color-base a-text-normal\">JBL Quantum 100, Wired Over Ear Gaming Headphones with mic for PC, Mobile, Laptop, PS4, Xbox, Nintendo Switch, VR (Black)</span> </a>, <a class=\"a-link-normal s-underline-text s-underline-link-text s-link-style a-text-normal\" href=\"/sspa/click?ie=UTF8&amp;spc=MTo0MTUyNTAwODY1ODA4OTIzOjE2ODc1OTgzNTU6c3BfYXRmOjMwMDAwMTgxNDk2NDQzMjo6MDo6&amp;url=%2FKreo-Programmable-Adjustable-Lightweight-Compatible%2Fdp%2FB0BZDBV94B%2Fref%3Dsr_1_2_sspa%3Fcrid%3D1QBJ1H6UU4F9S%26keywords%3Dgaming%26qid%3D1687598355%26sprefix%3Dgaming%252Caps%252C428%26sr%3D8-2-spons%26sp_csd%3Dd2lkZ2V0TmFtZT1zcF9hdGY%26psc%3D1\" target=\"_blank\"><span class=\"a-size-medium a-color-base a-text-normal\">Kreo Falcon Gaming Mouse with Programmable Buttons &amp; RGB Lighting | Pixart 3325 Sensor | Adjustable DPI upto 10,000 with 1.5m Long Braided Cable and Optical Sensor | Quick Flap Mode | Lightweight &amp; Durable | Compatible With Windows &amp; MAC</span> </a>, <a class=\"a-link-normal s-underline-text s-underline-link-text s-link-style a-text-normal\" href=\"/ASUS-15-6-inch-GeForce-Windows-FA506IHRZ-HN111W/dp/B0B5DZTNZQ/ref=sr_1_3?crid=1QBJ1H6UU4F9S&amp;keywords=gaming&amp;qid=1687598355&amp;sprefix=gaming%2Caps%2C428&amp;sr=8-3\" target=\"_blank\"><span class=\"a-size-medium a-color-base a-text-normal\">ASUS TUF Gaming A15, 15.6-inch (39.62 cms) FHD 144Hz, AMD Ryzen 5 4600H, 4GB NVIDIA GeForce GTX 1650, Gaming Laptop (8GB/512GB SSD/Windows 11/Black/2.3 Kg), FA506IHRZ-HN111W</span> </a>, <a class=\"a-link-normal s-underline-text s-underline-link-text s-link-style a-text-normal\" href=\"/Logitech-G304-Lightspeed-Lightweight-Programmable/dp/B0916VGQFC/ref=sr_1_4?crid=1QBJ1H6UU4F9S&amp;keywords=gaming&amp;qid=1687598355&amp;sprefix=gaming%2Caps%2C428&amp;sr=8-4\" target=\"_blank\"><span class=\"a-size-medium a-color-base a-text-normal\">Logitech G304 Lightspeed Wireless Gaming Mouse, Hero Sensor, 12,000 DPI, Lightweight, 6 Programmable Buttons, 250h Battery Life, On-Board Memory, Compatible with PC/Mac - White</span> </a>, <a class=\"a-link-normal s-underline-text s-underline-link-text s-link-style a-text-normal\" href=\"/Redgear-Cloak-Gaming-Headphones-Microphone/dp/B07T9FV9YP/ref=sr_1_5?crid=1QBJ1H6UU4F9S&amp;keywords=gaming&amp;qid=1687598355&amp;sprefix=gaming%2Caps%2C428&amp;sr=8-5\" target=\"_blank\"><span class=\"a-size-medium a-color-base a-text-normal\">Redgear Cloak Wired RGB Wired Over Ear Gaming Headphones with Mic for PC</span> </a>, <a class=\"a-link-normal s-underline-text s-underline-link-text s-link-style a-text-normal\" href=\"/Redgear-Gaming-Mouse-Upto-2400/dp/B08372ZPVS/ref=sr_1_6?crid=1QBJ1H6UU4F9S&amp;keywords=gaming&amp;qid=1687598355&amp;sprefix=gaming%2Caps%2C428&amp;sr=8-6\" target=\"_blank\"><span class=\"a-size-medium a-color-base a-text-normal\">Redgear A-10 Wired Gaming Mouse with RGB LED, Lightweight and Durable Design, DPI Upto 2400, Compatible with Windows and MAC.</span> </a>, <a class=\"a-link-normal s-underline-text s-underline-link-text s-link-style a-text-normal\" href=\"/Zebronics-PRO-Headphone-Neodymium-Suspension/dp/B0B5RMKMJL/ref=sr_1_7?crid=1QBJ1H6UU4F9S&amp;keywords=gaming&amp;qid=1687598355&amp;sprefix=gaming%2Caps%2C428&amp;sr=8-7\" target=\"_blank\"><span class=\"a-size-medium a-color-base a-text-normal\">Zebronics Jet PRO Premium Wired Gaming On Ear Headphone with LED for Headband + earcups, 40mm Neodymium Drivers, 2 Meter Braided Cable, with mic, Suspension Design, 3.5mm + USB Connector (Black, Blue)</span> </a>, <a class=\"a-link-normal s-underline-text s-underline-link-text s-link-style a-text-normal\" href=\"/boAt-Immortal-Wireless-Earbuds-Signature/dp/B0BKZLW5T5/ref=sr_1_8?crid=1QBJ1H6UU4F9S&amp;keywords=gaming&amp;qid=1687598355&amp;sprefix=gaming%2Caps%2C428&amp;sr=8-8\" target=\"_blank\"><span class=\"a-size-medium a-color-base a-text-normal\">boAt Immortal 121 TWS Gaming Truly Wireless in Ear Earbuds with Beast Mode(40ms Low Latency), 40H Playtime, Blazing LEDs, Quad Mics ENx Signature Sound, ASAP Charge(10 Mins= 180 Mins)(White Sabre)</span> </a>, <a class=\"a-link-normal s-underline-text s-underline-link-text s-link-style a-text-normal\" href=\"/COOLCOLD-Rechargeable-Gaming-Mouse-Wireless/dp/B09RZJDXF1/ref=sr_1_9?crid=1QBJ1H6UU4F9S&amp;keywords=gaming&amp;qid=1687598355&amp;sprefix=gaming%2Caps%2C428&amp;sr=8-9\" target=\"_blank\"><span class=\"a-size-medium a-color-base a-text-normal\">COOLCOLD Viboton Rechargeable Gaming Mouse Wireless, 2.4Ghz RGB Gaming Mice, Upto 2400 DPI LED Backlight 6 Button, 4 Color Breathing Lights, Wireless Distance-10m (Q13, White)</span> </a>, <a class=\"a-link-normal s-underline-text s-underline-link-text s-link-style a-text-normal\" href=\"/Redgear-Cosmo-7-1-Headphones-Controller/dp/B088R9S84B/ref=sr_1_10?crid=1QBJ1H6UU4F9S&amp;keywords=gaming&amp;qid=1687598355&amp;sprefix=gaming%2Caps%2C428&amp;sr=8-10\" target=\"_blank\"><span class=\"a-size-medium a-color-base a-text-normal\">Redgear Cosmo 7,1 USB Gaming Wired Over Ear Headphones with Mic with Virtual Surround Sound,50Mm Driver, RGB LEDs &amp; Remote Control(White)</span> </a>, <a class=\"a-link-normal s-underline-text s-underline-link-text s-link-style a-text-normal\" href=\"/sspa/click?ie=UTF8&amp;spc=MTo0MTUyNTAwODY1ODA4OTIzOjE2ODc1OTgzNTU6c3BfbXRmOjIwMTE3MDA2MDk1Njk4OjowOjo&amp;url=%2FGSH-Mechanical-Keyboard-Backlit-Rainbow%2Fdp%2FB09MJHD9PQ%2Fref%3Dsr_1_11_sspa%3Fcrid%3D1QBJ1H6UU4F9S%26keywords%3Dgaming%26qid%3D1687598355%26sprefix%3Dgaming%252Caps%252C428%26sr%3D8-11-spons%26sp_csd%3Dd2lkZ2V0TmFtZT1zcF9tdGY%26psc%3D1\" target=\"_blank\"><span class=\"a-size-medium a-color-base a-text-normal\">GSH One Hand Non Mechanical Gaming Keyboard and Backlit Mouse Combo, USB Wired Rainbow Letters Glow Single Hand Mechanical Keyboard,Gaming Keyboard Set for Laptop PC Game and Work (Combo)</span> </a>, <a class=\"a-link-normal s-underline-text s-underline-link-text s-link-style a-text-normal\" href=\"/sspa/click?ie=UTF8&amp;spc=MTo0MTUyNTAwODY1ODA4OTIzOjE2ODc1OTgzNTU6c3BfbXRmOjIwMDIwNjIxNDUwNzk4OjowOjo&amp;url=%2FWireless-Gamepad-Android-Charging-Vibration%2Fdp%2FB09F9CL2Y2%2Fref%3Dsr_1_12_sspa%3Fcrid%3D1QBJ1H6UU4F9S%26keywords%3Dgaming%26qid%3D1687598355%26sprefix%3Dgaming%252Caps%252C428%26sr%3D8-12-spons%26sp_csd%3Dd2lkZ2V0TmFtZT1zcF9tdGY%26psc%3D1\" target=\"_blank\"><span class=\"a-size-medium a-color-base a-text-normal\">EvoFox Elite Ops Wireless Gamepad for Android TV | 8+ Hours of Play Time | Zero Lag Connectivity Upto 12 Feets | USB Extender for TV Included | - Dusk Grey</span> </a>, <a class=\"a-link-normal s-underline-text s-underline-link-text s-link-style a-text-normal\" href=\"/ASUS-Battery-i7-12700H-Windows-FX507ZV-LP094W/dp/B0C4TW7328/ref=sr_1_13?crid=1QBJ1H6UU4F9S&amp;keywords=gaming&amp;qid=1687598355&amp;sprefix=gaming%2Caps%2C428&amp;sr=8-13\" target=\"_blank\"><span class=\"a-size-medium a-color-base a-text-normal\">ASUS TUF Gaming F15 (2023) 90WHr Battery, Intel Core i7-12700H 12th Gen, 15.6\" FHD 144Hz, 8GB RTX 4060, Gaming Laptop (16GB/512GB SSD/Windows 11//1-Zone RGB/Gray/2.20 Kg), FX507ZV-LP094W</span> </a>, <a class=\"a-link-normal s-underline-text s-underline-link-text s-link-style a-text-normal\" href=\"/Tukzer-Extended-Backlight-Lighting-Computer/dp/B09RSZ72W9/ref=sxin_25_trfobq2av2_0_B09RSZ72W9?content-id=amzn1.sym.c1eb4b2a-b703-404b-a097-61cb8a5ee3cb%3Aamzn1.sym.c1eb4b2a-b703-404b-a097-61cb8a5ee3cb&amp;crid=1QBJ1H6UU4F9S&amp;cv_ct_cx=gaming&amp;keywords=gaming&amp;pd_rd_i=B09RSZ72W9&amp;pd_rd_r=f42adf2f-63f1-45a6-a717-797a29c498d6&amp;pd_rd_w=zWfPn&amp;pd_rd_wg=yPAR2&amp;pf_rd_p=c1eb4b2a-b703-404b-a097-61cb8a5ee3cb&amp;pf_rd_r=WG1ESGX6SSQ8JWY0JCJ3&amp;qid=1687598355&amp;sprefix=gaming%2Caps%2C428&amp;sr=1-1-973fd8bd-28ce-479e-8be4-fbaf1193947a\" target=\"_blank\"><span class=\"a-size-base-plus a-color-base a-text-normal\">Tukzer RGB Gaming Mouse Pad with 4 USB HUB, Large Extended Soft Mouse Pad, LED Glowing Backlight 13 Lighting Modes| for Computer Laptop Keyboard Mousepad Desk Mat| (795 x 298 x 3.45mm, Astro Planet)</span> </a>, <a class=\"a-link-normal s-underline-text s-underline-link-text s-link-style a-text-normal\" href=\"/AmazonBasics-MW-GAH-003-Gaming-Headset-Green/dp/B0797762M1/ref=sxin_25_trfobq2av2_1_B0797762M1?content-id=amzn1.sym.c1eb4b2a-b703-404b-a097-61cb8a5ee3cb%3Aamzn1.sym.c1eb4b2a-b703-404b-a097-61cb8a5ee3cb&amp;crid=1QBJ1H6UU4F9S&amp;cv_ct_cx=gaming&amp;keywords=gaming&amp;pd_rd_i=B0797762M1&amp;pd_rd_r=f42adf2f-63f1-45a6-a717-797a29c498d6&amp;pd_rd_w=zWfPn&amp;pd_rd_wg=yPAR2&amp;pf_rd_p=c1eb4b2a-b703-404b-a097-61cb8a5ee3cb&amp;pf_rd_r=WG1ESGX6SSQ8JWY0JCJ3&amp;qid=1687598355&amp;sprefix=gaming%2Caps%2C428&amp;sr=1-2-973fd8bd-28ce-479e-8be4-fbaf1193947a\" target=\"_blank\"><span class=\"a-size-base-plus a-color-base a-text-normal\">Amazon Basics Gaming Headset - Green</span> </a>, <a class=\"a-link-normal s-underline-text s-underline-link-text s-link-style a-text-normal\" href=\"/Tukzer-Extended-Backlight-Lighting-Computer/dp/B09RSR8ZFT/ref=sxin_25_trfobq2av2_2_B09RSR8ZFT?content-id=amzn1.sym.c1eb4b2a-b703-404b-a097-61cb8a5ee3cb%3Aamzn1.sym.c1eb4b2a-b703-404b-a097-61cb8a5ee3cb&amp;crid=1QBJ1H6UU4F9S&amp;cv_ct_cx=gaming&amp;keywords=gaming&amp;pd_rd_i=B09RSR8ZFT&amp;pd_rd_r=f42adf2f-63f1-45a6-a717-797a29c498d6&amp;pd_rd_w=zWfPn&amp;pd_rd_wg=yPAR2&amp;pf_rd_p=c1eb4b2a-b703-404b-a097-61cb8a5ee3cb&amp;pf_rd_r=WG1ESGX6SSQ8JWY0JCJ3&amp;qid=1687598355&amp;sprefix=gaming%2Caps%2C428&amp;sr=1-3-973fd8bd-28ce-479e-8be4-fbaf1193947a\" target=\"_blank\"><span class=\"a-size-base-plus a-color-base a-text-normal\">Tukzer RGB Gaming Mouse Pad with 4 USB HUB, Large Extended Soft Mouse Pad, LED Glowing Backlight 13 Lighting Modes| for Computer Laptop Keyboard Mousepad Desk Mat| (795 x 298 x 3.45mm, Vivid)</span> </a>, <a class=\"a-link-normal s-underline-text s-underline-link-text s-link-style a-text-normal\" href=\"/Keyboard-Multicolor-Backlight-Multimedia-Aluminum/dp/B09SN34HZ7/ref=sxin_25_trfobq2av2_3_B09SN34HZ7?content-id=amzn1.sym.c1eb4b2a-b703-404b-a097-61cb8a5ee3cb%3Aamzn1.sym.c1eb4b2a-b703-404b-a097-61cb8a5ee3cb&amp;crid=1QBJ1H6UU4F9S&amp;cv_ct_cx=gaming&amp;keywords=gaming&amp;pd_rd_i=B09SN34HZ7&amp;pd_rd_r=f42adf2f-63f1-45a6-a717-797a29c498d6&amp;pd_rd_w=zWfPn&amp;pd_rd_wg=yPAR2&amp;pf_rd_p=c1eb4b2a-b703-404b-a097-61cb8a5ee3cb&amp;pf_rd_r=WG1ESGX6SSQ8JWY0JCJ3&amp;qid=1687598355&amp;sprefix=gaming%2Caps%2C428&amp;sr=1-4-973fd8bd-28ce-479e-8be4-fbaf1193947a\" target=\"_blank\"><span class=\"a-size-base-plus a-color-base a-text-normal\">Amazon Basics Wired Gaming Keyboard and Mouse Combo | Multicolor RGB LED Backlight Effects, Multimedia Keys, Durable Aluminum Body</span> </a>, <a class=\"a-link-normal s-underline-text s-underline-link-text s-link-style a-text-normal\" href=\"/HP-M270-Gaming-Mouse-7ZZ87AA/dp/B08497Z1MQ/ref=sr_1_14?crid=1QBJ1H6UU4F9S&amp;keywords=gaming&amp;qid=1687598355&amp;sprefix=gaming%2Caps%2C428&amp;sr=8-14\" target=\"_blank\"><span class=\"a-size-medium a-color-base a-text-normal\">HP M270 Backlit USB Wired Gaming Mouse with 6 Buttons, 4-Speed Customizable 2400 DPI, Ergonomic Design, Breathing LED Lighting, Metal Scroll Wheel, Lightweighted / 3 Years Warranty (7ZZ87AA), Black</span> </a>, <a class=\"a-link-normal s-underline-text s-underline-link-text s-link-style a-text-normal\" href=\"/VEROX-Bluetooth-Headphones-Microphone-Dedicated/dp/B0BW3RTT8X/ref=sr_1_15?crid=1QBJ1H6UU4F9S&amp;keywords=gaming&amp;qid=1687598355&amp;sprefix=gaming%2Caps%2C428&amp;sr=8-15\" target=\"_blank\"><span class=\"a-size-medium a-color-base a-text-normal\">VEROX Wireless Gaming TWS Earbuds with RGB LED Design Bluetooth Gaming Headphones with Microphone 40Hrs Bluetooth 5.3 ENC 13mm HD BASS Drivers IPX7 Swat Proof Dedicated Gaming Mode</span> </a>, <a class=\"a-link-normal s-underline-text s-underline-link-text s-link-style a-text-normal\" href=\"/Ambrane-Controller-Transparent-Technology-Illuminated/dp/B0BY4PTCVB/ref=sr_1_16?crid=1QBJ1H6UU4F9S&amp;keywords=gaming&amp;qid=1687598355&amp;sprefix=gaming%2Caps%2C428&amp;sr=8-16\" target=\"_blank\"><span class=\"a-size-medium a-color-base a-text-normal\">Ambrane Wireless Gaming Controller with Transparent Design, 2.4GHz Wireless Technology, Integrated Dual Intensity Motor, Illuminated Pad for PC - Windows, PS3 Console &amp; Android TV(OP-WLGC01, Black)</span> </a>, <a class=\"a-link-normal s-underline-text s-underline-link-text s-link-style a-text-normal\" href=\"/AMKETTE-Amkette-Fireblade-Keyboard-Anti-Ghosting/dp/B085366TJW/ref=sr_1_17?crid=1QBJ1H6UU4F9S&amp;keywords=gaming&amp;qid=1687598355&amp;sprefix=gaming%2Caps%2C428&amp;sr=8-17\" target=\"_blank\"><span class=\"a-size-medium a-color-base a-text-normal\">Amkette EvoFox Fireblade Membrane Wired Gaming Keyboard with LED Backlit with Breathing Effect, 19 Anti-Ghosting Keys, and Windows Lock Key (TKL, Black)</span> </a>, <a class=\"a-link-normal s-underline-text s-underline-link-text s-link-style a-text-normal\" href=\"/Lenovo-IdeaPad-39-62cm-Backlit-82K10198IN/dp/B0B4JQ9X9C/ref=sr_1_18?crid=1QBJ1H6UU4F9S&amp;keywords=gaming&amp;qid=1687598355&amp;sprefix=gaming%2Caps%2C428&amp;sr=8-18\" target=\"_blank\"><span class=\"a-size-medium a-color-base a-text-normal\">Lenovo IdeaPad Gaming 3 Intel Core i5 11th Gen 15.6\" (39.62cm) FHD IPS Gaming Laptop (8GB/512GB SSD/4GB NVIDIA GTX 1650/120Hz/Win 11/Backlit/3months Game Pass/Shadow Black/2.25Kg), 82K101GSIN</span> </a>, <a class=\"a-link-normal s-underline-text s-underline-link-text s-link-style a-text-normal\" href=\"/Ant-Esports-GM320-Programmable-Comfortable/dp/B08D64C9FN/ref=sr_1_19?crid=1QBJ1H6UU4F9S&amp;keywords=gaming&amp;qid=1687598355&amp;sprefix=gaming%2Caps%2C428&amp;sr=8-19\" target=\"_blank\"><span class=\"a-size-medium a-color-base a-text-normal\">Ant Esports GM320 RGB Optical Wired Gaming Mouse | 8 Programmable Buttons | 12800 DPI I Ergonomic Design with Braided Cable - Black</span> </a>, <a class=\"a-link-normal s-underline-text s-underline-link-text s-link-style a-text-normal\" href=\"/Redgear-Gaming-Mouse-Lighting-Braided/dp/B097RH8XTG/ref=sr_1_20?crid=1QBJ1H6UU4F9S&amp;keywords=gaming&amp;qid=1687598355&amp;sprefix=gaming%2Caps%2C428&amp;sr=8-20\" target=\"_blank\"><span class=\"a-size-medium a-color-base a-text-normal\">Redgear A-17 Gaming Mouse with Upto 6400 DPI, RGB Lighting and Braided Cable(Black)</span> </a>, <a class=\"a-link-normal s-underline-text s-underline-link-text s-link-style a-text-normal\" href=\"/sspa/click?ie=UTF8&amp;spc=MTo0MTUyNTAwODY1ODA4OTIzOjE2ODc1OTgzNTU6c3BfYnRmOjIwMDk2ODExNTI3Nzk4OjowOjo&amp;url=%2FAmbrane-Trone-Programmable-Customizable-Comfortable%2Fdp%2FB0BGY2ZGND%2Fref%3Dsr_1_21_sspa%3Fcrid%3D1QBJ1H6UU4F9S%26keywords%3Dgaming%26qid%3D1687598355%26sprefix%3Dgaming%252Caps%252C428%26sr%3D8-21-spons%26sp_csd%3Dd2lkZ2V0TmFtZT1zcF9idGY%26psc%3D1\" target=\"_blank\"><span class=\"a-size-medium a-color-base a-text-normal\">Ambrane Trone Wired Gaming Mouse with 7 Programmable Buttons, 3-Speed Customizable 3600 DPI, Comfortable Grip, Breathing LED Lighting, Fast Response Time, 1.5m Long USB Cable, Lightweight (Black)</span> </a>, <a class=\"a-link-normal s-underline-text s-underline-link-text s-link-style a-text-normal\" href=\"/sspa/click?ie=UTF8&amp;spc=MTo0MTUyNTAwODY1ODA4OTIzOjE2ODc1OTgzNTU6c3BfYnRmOjIwMTUxNTc1MzA2Mzk4OjowOjo&amp;url=%2FMageGee-Gaming-Breathing-Backlit-Windows%2Fdp%2FB0BPS184B8%2Fref%3Dsr_1_22_sspa%3Fcrid%3D1QBJ1H6UU4F9S%26keywords%3Dgaming%26qid%3D1687598355%26sprefix%3Dgaming%252Caps%252C428%26sr%3D8-22-spons%26sp_csd%3Dd2lkZ2V0TmFtZT1zcF9idGY%26psc%3D1\" target=\"_blank\"><span class=\"a-size-medium a-color-base a-text-normal\">MageGee G10 Gaming Mouse Wired, Mute 7 Colors Breathing LED Backlit Gaming Mouse for Windows PC (Pink)</span> </a>, <a class=\"a-link-normal s-underline-text s-underline-link-text s-link-style a-text-normal\" href=\"/ASUS-15-6-inch-GeForce-Windows-FA506IHRZ-HN111W/dp/B0B5DZTNZQ/ref=sxbs_aspa_sqa?content-id=amzn1.sym.93a4e5ea-7e27-498b-83cd-f50484733530%3Aamzn1.sym.93a4e5ea-7e27-498b-83cd-f50484733530&amp;crid=1QBJ1H6UU4F9S&amp;cv_ct_cx=gaming&amp;keywords=gaming&amp;pd_rd_i=B0B5DZTNZQ&amp;pd_rd_r=300b4113-dc5a-404f-9194-6a8ce4f798fd&amp;pd_rd_w=IedR6&amp;pd_rd_wg=zg20q&amp;pf_rd_p=93a4e5ea-7e27-498b-83cd-f50484733530&amp;pf_rd_r=WG1ESGX6SSQ8JWY0JCJ3&amp;qid=1687598355&amp;sprefix=gaming%2Caps%2C428&amp;sr=1-1-93291ede-2a7a-4e75-a6c2-b89c29736263\" target=\"_blank\"><span class=\"a-size-base-plus a-color-base a-text-normal\">ASUS TUF Gaming A15, 15.6-inch (39.62 cms) FHD 144Hz, AMD Ryzen 5 4600H, 4GB NVIDIA GeForce GTX 1650, Gaming Laptop (8GB/512GB SSD/Windows 11/Black/2.3 Kg), FA506IHRZ-HN111W</span> </a>, <a class=\"a-link-normal s-underline-text s-underline-link-text s-link-style a-text-normal\" href=\"/Redgear-Cloak-Gaming-Headphones-Microphone/dp/B07T9FV9YP/ref=sxbs_aspa_sqa?content-id=amzn1.sym.93a4e5ea-7e27-498b-83cd-f50484733530%3Aamzn1.sym.93a4e5ea-7e27-498b-83cd-f50484733530&amp;crid=1QBJ1H6UU4F9S&amp;cv_ct_cx=gaming&amp;keywords=gaming&amp;pd_rd_i=B07T9FV9YP&amp;pd_rd_r=300b4113-dc5a-404f-9194-6a8ce4f798fd&amp;pd_rd_w=IedR6&amp;pd_rd_wg=zg20q&amp;pf_rd_p=93a4e5ea-7e27-498b-83cd-f50484733530&amp;pf_rd_r=WG1ESGX6SSQ8JWY0JCJ3&amp;qid=1687598355&amp;sprefix=gaming%2Caps%2C428&amp;sr=1-3-93291ede-2a7a-4e75-a6c2-b89c29736263\" target=\"_blank\"><span class=\"a-size-base-plus a-color-base a-text-normal\">Redgear Cloak Wired RGB Wired Over Ear Gaming Headphones with Mic for PC</span> </a>, <a class=\"a-link-normal s-underline-text s-underline-link-text s-link-style a-text-normal\" href=\"/Redgear-Gaming-Mouse-Upto-2400/dp/B08372ZPVS/ref=sxbs_aspa_sqa?content-id=amzn1.sym.93a4e5ea-7e27-498b-83cd-f50484733530%3Aamzn1.sym.93a4e5ea-7e27-498b-83cd-f50484733530&amp;crid=1QBJ1H6UU4F9S&amp;cv_ct_cx=gaming&amp;keywords=gaming&amp;pd_rd_i=B08372ZPVS&amp;pd_rd_r=300b4113-dc5a-404f-9194-6a8ce4f798fd&amp;pd_rd_w=IedR6&amp;pd_rd_wg=zg20q&amp;pf_rd_p=93a4e5ea-7e27-498b-83cd-f50484733530&amp;pf_rd_r=WG1ESGX6SSQ8JWY0JCJ3&amp;qid=1687598355&amp;sprefix=gaming%2Caps%2C428&amp;sr=1-5-93291ede-2a7a-4e75-a6c2-b89c29736263\" target=\"_blank\"><span class=\"a-size-base-plus a-color-base a-text-normal\">Redgear A-10 Wired Gaming Mouse with RGB LED, Lightweight and Durable Design, DPI Upto 2400, Compatible with Windows and MAC.</span> </a>, <a class=\"a-link-normal s-underline-text s-underline-link-text s-link-style a-text-normal\" href=\"/Redgear-Cosmo-7-1-Headphones-Controller/dp/B088R9S84B/ref=sxbs_aspa_sqa?content-id=amzn1.sym.93a4e5ea-7e27-498b-83cd-f50484733530%3Aamzn1.sym.93a4e5ea-7e27-498b-83cd-f50484733530&amp;crid=1QBJ1H6UU4F9S&amp;cv_ct_cx=gaming&amp;keywords=gaming&amp;pd_rd_i=B088R9S84B&amp;pd_rd_r=300b4113-dc5a-404f-9194-6a8ce4f798fd&amp;pd_rd_w=IedR6&amp;pd_rd_wg=zg20q&amp;pf_rd_p=93a4e5ea-7e27-498b-83cd-f50484733530&amp;pf_rd_r=WG1ESGX6SSQ8JWY0JCJ3&amp;qid=1687598355&amp;sprefix=gaming%2Caps%2C428&amp;sr=1-7-93291ede-2a7a-4e75-a6c2-b89c29736263\" target=\"_blank\"><span class=\"a-size-base-plus a-color-base a-text-normal\">Redgear Cosmo 7,1 USB Gaming Wired Over Ear Headphones with Mic with Virtual Surround Sound,50Mm Driver, RGB LEDs &amp; Remote Control(White)</span> </a>, <a class=\"a-link-normal s-underline-text s-underline-link-text s-link-style a-text-normal\" href=\"/Lenovo-IdeaCentre-Desktop-Bluetooth-90RW00GCIN/dp/B0B61KW9MP/ref=sxbs_aspa_sqa?content-id=amzn1.sym.93a4e5ea-7e27-498b-83cd-f50484733530%3Aamzn1.sym.93a4e5ea-7e27-498b-83cd-f50484733530&amp;crid=1QBJ1H6UU4F9S&amp;cv_ct_cx=gaming&amp;keywords=gaming&amp;pd_rd_i=B0B61KW9MP&amp;pd_rd_r=300b4113-dc5a-404f-9194-6a8ce4f798fd&amp;pd_rd_w=IedR6&amp;pd_rd_wg=zg20q&amp;pf_rd_p=93a4e5ea-7e27-498b-83cd-f50484733530&amp;pf_rd_r=WG1ESGX6SSQ8JWY0JCJ3&amp;qid=1687598355&amp;sprefix=gaming%2Caps%2C428&amp;sr=1-2-93291ede-2a7a-4e75-a6c2-b89c29736263\" target=\"_blank\"><span class=\"a-size-base-plus a-color-base a-text-normal\">Lenovo IdeaCentre Gaming 5 Desktop (AMD Ryzen 5 5600G/16GB/512GB SSD/Windows 11/NVIDIA GeForce RTX 3060 12GB GDDR6/WiFi 5/Bluetooth 5.0/Raven Black), 90RW00GCIN</span> </a>, <a class=\"a-link-normal s-underline-text s-underline-link-text s-link-style a-text-normal\" href=\"/Lenovo-Desktop-ColdFront-Lighting-Transparent/dp/B09NPPQZQY/ref=sxbs_aspa_sqa?content-id=amzn1.sym.93a4e5ea-7e27-498b-83cd-f50484733530%3Aamzn1.sym.93a4e5ea-7e27-498b-83cd-f50484733530&amp;crid=1QBJ1H6UU4F9S&amp;cv_ct_cx=gaming&amp;keywords=gaming&amp;pd_rd_i=B09NPPQZQY&amp;pd_rd_r=300b4113-dc5a-404f-9194-6a8ce4f798fd&amp;pd_rd_w=IedR6&amp;pd_rd_wg=zg20q&amp;pf_rd_p=93a4e5ea-7e27-498b-83cd-f50484733530&amp;pf_rd_r=WG1ESGX6SSQ8JWY0JCJ3&amp;qid=1687598355&amp;sprefix=gaming%2Caps%2C428&amp;sr=1-4-93291ede-2a7a-4e75-a6c2-b89c29736263\" target=\"_blank\"><span class=\"a-size-base-plus a-color-base a-text-normal\">Lenovo Legion Tower 5 Gaming Desktop (AMD Ryzen 7 5800/16GB/512GB SSD/2TB HDD/Win11/NVIDIA RTX 3070 8GB GDDR6/Legion ColdFront 2.0 Cooling/ARGB Lighting with 16 Million Colors/Transparent Side Panel)</span> </a>, <a class=\"a-link-normal s-underline-text s-underline-link-text s-link-style a-text-normal\" href=\"/Electrobot-Gaming-Tower-PC-Controller/dp/B08RW7GVWY/ref=sxbs_aspa_sqa?content-id=amzn1.sym.93a4e5ea-7e27-498b-83cd-f50484733530%3Aamzn1.sym.93a4e5ea-7e27-498b-83cd-f50484733530&amp;crid=1QBJ1H6UU4F9S&amp;cv_ct_cx=gaming&amp;keywords=gaming&amp;pd_rd_i=B08RW7GVWY&amp;pd_rd_r=300b4113-dc5a-404f-9194-6a8ce4f798fd&amp;pd_rd_w=IedR6&amp;pd_rd_wg=zg20q&amp;pf_rd_p=93a4e5ea-7e27-498b-83cd-f50484733530&amp;pf_rd_r=WG1ESGX6SSQ8JWY0JCJ3&amp;qid=1687598355&amp;sprefix=gaming%2Caps%2C428&amp;sr=1-6-93291ede-2a7a-4e75-a6c2-b89c29736263\" target=\"_blank\"><span class=\"a-size-base-plus a-color-base a-text-normal\">Electrobot Gaming Tower PC - Ryzen 3500X, RTX 2060 6GB, 16GB RAM, 1TB HDD, 240GB SSD with 3 RGB Cooling Fans with Controller (Ryzen 5 3500X)</span> </a>, <a class=\"a-link-normal s-underline-text s-underline-link-text s-link-style a-text-normal\" href=\"/CHIST-POWERPC-RYZEN-Graphics-Version/dp/B08F47D4ZF/ref=sxbs_aspa_sqa?content-id=amzn1.sym.93a4e5ea-7e27-498b-83cd-f50484733530%3Aamzn1.sym.93a4e5ea-7e27-498b-83cd-f50484733530&amp;crid=1QBJ1H6UU4F9S&amp;cv_ct_cx=gaming&amp;keywords=gaming&amp;pd_rd_i=B08F47D4ZF&amp;pd_rd_r=300b4113-dc5a-404f-9194-6a8ce4f798fd&amp;pd_rd_w=IedR6&amp;pd_rd_wg=zg20q&amp;pf_rd_p=93a4e5ea-7e27-498b-83cd-f50484733530&amp;pf_rd_r=WG1ESGX6SSQ8JWY0JCJ3&amp;qid=1687598355&amp;sprefix=gaming%2Caps%2C428&amp;sr=1-8-93291ede-2a7a-4e75-a6c2-b89c29736263\" target=\"_blank\"><span class=\"a-size-base-plus a-color-base a-text-normal\">CHIST Gaming Tower PC AMD Radeon Graphics Windows AMD Ryzen 5 5600G/ 16GB 8x2 DDR4 Ram/ B520 Chipset Motherboard/ 1TB HDD/ 256GB NVME SSD/ 800 Watt PSU (Black)</span> </a>]\n"
     ]
    }
   ],
   "source": [
    "print(link)"
   ]
  },
  {
   "cell_type": "code",
   "execution_count": 11,
   "id": "b1e649f3",
   "metadata": {},
   "outputs": [
    {
     "data": {
      "text/plain": [
       "34"
      ]
     },
     "execution_count": 11,
     "metadata": {},
     "output_type": "execute_result"
    }
   ],
   "source": [
    "len(link)"
   ]
  },
  {
   "cell_type": "code",
   "execution_count": 18,
   "id": "72205105",
   "metadata": {},
   "outputs": [],
   "source": [
    "k1=link[0].get('href')"
   ]
  },
  {
   "cell_type": "code",
   "execution_count": 30,
   "id": "dcd0d828",
   "metadata": {},
   "outputs": [],
   "source": [
    "k=\"https://amazon.in\" + k1"
   ]
  },
  {
   "cell_type": "code",
   "execution_count": 31,
   "id": "1e1ecb4e",
   "metadata": {},
   "outputs": [
    {
     "data": {
      "text/plain": [
       "'https://amazon.in/sspa/click?ie=UTF8&spc=MTo0MTUyNTAwODY1ODA4OTIzOjE2ODc1OTgzNTU6c3BfYXRmOjIwMDU3ODA0MjY2MjA3OjowOjo&url=%2FJBL-Quantum-Over-Ear-Headset-Detachable%2Fdp%2FB083X24CFF%2Fref%3Dsr_1_1_sspa%3Fcrid%3D1QBJ1H6UU4F9S%26keywords%3Dgaming%26qid%3D1687598355%26sprefix%3Dgaming%252Caps%252C428%26sr%3D8-1-spons%26sp_csd%3Dd2lkZ2V0TmFtZT1zcF9hdGY%26psc%3D1'"
      ]
     },
     "execution_count": 31,
     "metadata": {},
     "output_type": "execute_result"
    }
   ],
   "source": [
    "k"
   ]
  },
  {
   "cell_type": "code",
   "execution_count": 32,
   "id": "6ba19b1e",
   "metadata": {},
   "outputs": [],
   "source": [
    "new_url=requests.get(k,headers=header)"
   ]
  },
  {
   "cell_type": "code",
   "execution_count": 34,
   "id": "69b21cac",
   "metadata": {},
   "outputs": [
    {
     "data": {
      "text/plain": [
       "<Response [200]>"
      ]
     },
     "execution_count": 34,
     "metadata": {},
     "output_type": "execute_result"
    }
   ],
   "source": [
    "new_url"
   ]
  },
  {
   "cell_type": "code",
   "execution_count": 35,
   "id": "eb6a250d",
   "metadata": {},
   "outputs": [],
   "source": [
    "new_soup=BeautifulSoup(new_url.content,'html.parser')"
   ]
  },
  {
   "cell_type": "code",
   "execution_count": 38,
   "id": "6b47e081",
   "metadata": {},
   "outputs": [
    {
     "data": {
      "text/plain": [
       "'JBL Quantum 100, Wired Over Ear Gaming Headphones with mic for PC, Mobile, Laptop, PS4, Xbox, Nintendo Switch, VR (Black)'"
      ]
     },
     "execution_count": 38,
     "metadata": {},
     "output_type": "execute_result"
    }
   ],
   "source": [
    "new_soup.find(id='productTitle').get_text().strip()"
   ]
  },
  {
   "cell_type": "code",
   "execution_count": 41,
   "id": "140d7634",
   "metadata": {},
   "outputs": [
    {
     "data": {
      "text/plain": [
       "'2,299.'"
      ]
     },
     "execution_count": 41,
     "metadata": {},
     "output_type": "execute_result"
    }
   ],
   "source": [
    "new_soup.find('span',attrs={'class':'a-price-whole'}).get_text()"
   ]
  },
  {
   "cell_type": "code",
   "execution_count": 44,
   "id": "fb05e156",
   "metadata": {},
   "outputs": [
    {
     "data": {
      "text/plain": [
       "'4.0 out of 5 stars'"
      ]
     },
     "execution_count": 44,
     "metadata": {},
     "output_type": "execute_result"
    }
   ],
   "source": [
    "new_soup.find('span',attrs={'class':'a-icon-alt'}).get_text()"
   ]
  },
  {
   "cell_type": "code",
   "execution_count": 45,
   "id": "d0a7e3e6",
   "metadata": {},
   "outputs": [],
   "source": [
    "product_name=[]\n",
    "price=[]\n",
    "rating=[]"
   ]
  },
  {
   "cell_type": "code",
   "execution_count": 46,
   "id": "8f15d7ba",
   "metadata": {},
   "outputs": [],
   "source": [
    "for i in range(len(link)):\n",
    "    k1=\"https://amazon.in\" + link[i].get('href')\n",
    "    new_url1=requests.get(k1,headers=header)\n",
    "    new_soup1=BeautifulSoup(new_url1.content,'html.parser')\n",
    "    product_name.append(new_soup1.find(id='productTitle').get_text().strip())\n",
    "    price.append(new_soup1.find('span',attrs={'class':'a-price-whole'}).get_text())\n",
    "    rating.append(new_soup1.find('span',attrs={'class':'a-icon-alt'}).get_text())"
   ]
  },
  {
   "cell_type": "code",
   "execution_count": 48,
   "id": "2ee2d2e5",
   "metadata": {},
   "outputs": [],
   "source": [
    "df=pd.DataFrame({'Product Name':product_name,'Price':price,'Rating':rating})"
   ]
  },
  {
   "cell_type": "code",
   "execution_count": 49,
   "id": "f78de8e1",
   "metadata": {},
   "outputs": [
    {
     "data": {
      "text/html": [
       "<div>\n",
       "<style scoped>\n",
       "    .dataframe tbody tr th:only-of-type {\n",
       "        vertical-align: middle;\n",
       "    }\n",
       "\n",
       "    .dataframe tbody tr th {\n",
       "        vertical-align: top;\n",
       "    }\n",
       "\n",
       "    .dataframe thead th {\n",
       "        text-align: right;\n",
       "    }\n",
       "</style>\n",
       "<table border=\"1\" class=\"dataframe\">\n",
       "  <thead>\n",
       "    <tr style=\"text-align: right;\">\n",
       "      <th></th>\n",
       "      <th>Product Name</th>\n",
       "      <th>Price</th>\n",
       "      <th>Rating</th>\n",
       "    </tr>\n",
       "  </thead>\n",
       "  <tbody>\n",
       "    <tr>\n",
       "      <th>0</th>\n",
       "      <td>JBL Quantum 100, Wired Over Ear Gaming Headpho...</td>\n",
       "      <td>2,299.</td>\n",
       "      <td>4.0 out of 5 stars</td>\n",
       "    </tr>\n",
       "    <tr>\n",
       "      <th>1</th>\n",
       "      <td>Kreo Falcon Gaming Mouse with Programmable But...</td>\n",
       "      <td>1,790.</td>\n",
       "      <td>5.0 out of 5 stars</td>\n",
       "    </tr>\n",
       "    <tr>\n",
       "      <th>2</th>\n",
       "      <td>ASUS TUF Gaming A15, 15.6-inch (39.62 cms) FHD...</td>\n",
       "      <td>49,990.</td>\n",
       "      <td>4.3 out of 5 stars</td>\n",
       "    </tr>\n",
       "    <tr>\n",
       "      <th>3</th>\n",
       "      <td>Logitech G304 Lightspeed Wireless Gaming Mouse...</td>\n",
       "      <td>3,095.</td>\n",
       "      <td>4.5 out of 5 stars</td>\n",
       "    </tr>\n",
       "    <tr>\n",
       "      <th>4</th>\n",
       "      <td>Redgear Cloak Wired RGB Wired Over Ear Gaming ...</td>\n",
       "      <td>499.</td>\n",
       "      <td>4.0 out of 5 stars</td>\n",
       "    </tr>\n",
       "    <tr>\n",
       "      <th>5</th>\n",
       "      <td>Redgear A-10 Wired Gaming Mouse with RGB LED, ...</td>\n",
       "      <td>249.</td>\n",
       "      <td>4.3 out of 5 stars</td>\n",
       "    </tr>\n",
       "    <tr>\n",
       "      <th>6</th>\n",
       "      <td>Zebronics Jet PRO Premium Wired Gaming On Ear ...</td>\n",
       "      <td>899.</td>\n",
       "      <td>3.9 out of 5 stars</td>\n",
       "    </tr>\n",
       "    <tr>\n",
       "      <th>7</th>\n",
       "      <td>boAt Immortal 121 TWS Gaming Truly Wireless in...</td>\n",
       "      <td>1,499.</td>\n",
       "      <td>3.8 out of 5 stars</td>\n",
       "    </tr>\n",
       "    <tr>\n",
       "      <th>8</th>\n",
       "      <td>COOLCOLD Viboton Rechargeable Gaming Mouse Wir...</td>\n",
       "      <td>698.</td>\n",
       "      <td>3.9 out of 5 stars</td>\n",
       "    </tr>\n",
       "    <tr>\n",
       "      <th>9</th>\n",
       "      <td>Redgear Cosmo 7,1 USB Gaming Wired Over Ear He...</td>\n",
       "      <td>1,699.</td>\n",
       "      <td>4.3 out of 5 stars</td>\n",
       "    </tr>\n",
       "    <tr>\n",
       "      <th>10</th>\n",
       "      <td>GSH One Hand Non Mechanical Gaming Keyboard an...</td>\n",
       "      <td>3,994.</td>\n",
       "      <td>3.6 out of 5 stars</td>\n",
       "    </tr>\n",
       "    <tr>\n",
       "      <th>11</th>\n",
       "      <td>EvoFox Elite Ops Wireless Gamepad for Android ...</td>\n",
       "      <td>1,424.</td>\n",
       "      <td>3.9 out of 5 stars</td>\n",
       "    </tr>\n",
       "    <tr>\n",
       "      <th>12</th>\n",
       "      <td>ASUS TUF Gaming F15 (2023) 90WHr Battery, Inte...</td>\n",
       "      <td>1,15,990.</td>\n",
       "      <td>4.8 out of 5 stars</td>\n",
       "    </tr>\n",
       "    <tr>\n",
       "      <th>13</th>\n",
       "      <td>Tukzer RGB Gaming Mouse Pad with 4 USB HUB, La...</td>\n",
       "      <td>1,599.</td>\n",
       "      <td>4.3 out of 5 stars</td>\n",
       "    </tr>\n",
       "    <tr>\n",
       "      <th>14</th>\n",
       "      <td>Amazon Basics Gaming Headset - Green</td>\n",
       "      <td>599.</td>\n",
       "      <td>3.9 out of 5 stars</td>\n",
       "    </tr>\n",
       "    <tr>\n",
       "      <th>15</th>\n",
       "      <td>Tukzer RGB Gaming Mouse Pad with 4 USB HUB, La...</td>\n",
       "      <td>1,599.</td>\n",
       "      <td>4.5 out of 5 stars</td>\n",
       "    </tr>\n",
       "    <tr>\n",
       "      <th>16</th>\n",
       "      <td>Amazon Basics Wired Gaming Keyboard and Mouse ...</td>\n",
       "      <td>1,199.</td>\n",
       "      <td>4.0 out of 5 stars</td>\n",
       "    </tr>\n",
       "    <tr>\n",
       "      <th>17</th>\n",
       "      <td>HP M270 Backlit USB Wired Gaming Mouse with 6 ...</td>\n",
       "      <td>390.</td>\n",
       "      <td>4.2 out of 5 stars</td>\n",
       "    </tr>\n",
       "    <tr>\n",
       "      <th>18</th>\n",
       "      <td>VEROX Wireless Gaming TWS Earbuds with RGB LED...</td>\n",
       "      <td>1,099.</td>\n",
       "      <td>2.0 out of 5 stars</td>\n",
       "    </tr>\n",
       "    <tr>\n",
       "      <th>19</th>\n",
       "      <td>Ambrane Wireless Gaming Controller with Transp...</td>\n",
       "      <td>1,999.</td>\n",
       "      <td>3.8 out of 5 stars</td>\n",
       "    </tr>\n",
       "    <tr>\n",
       "      <th>20</th>\n",
       "      <td>Amkette EvoFox Fireblade Membrane Wired Gaming...</td>\n",
       "      <td>899.</td>\n",
       "      <td>4.1 out of 5 stars</td>\n",
       "    </tr>\n",
       "    <tr>\n",
       "      <th>21</th>\n",
       "      <td>Lenovo IdeaPad Gaming 3 Intel Core i5 11th Gen...</td>\n",
       "      <td>55,990.</td>\n",
       "      <td>4.1 out of 5 stars</td>\n",
       "    </tr>\n",
       "    <tr>\n",
       "      <th>22</th>\n",
       "      <td>Ant Esports GM320 RGB Optical Wired Gaming Mou...</td>\n",
       "      <td>559.</td>\n",
       "      <td>4.4 out of 5 stars</td>\n",
       "    </tr>\n",
       "    <tr>\n",
       "      <th>23</th>\n",
       "      <td>Redgear A-17 Gaming Mouse with Upto 6400 DPI, ...</td>\n",
       "      <td>399.</td>\n",
       "      <td>4.2 out of 5 stars</td>\n",
       "    </tr>\n",
       "    <tr>\n",
       "      <th>24</th>\n",
       "      <td>Ambrane Trone Wired Gaming Mouse with 7 Progra...</td>\n",
       "      <td>490.</td>\n",
       "      <td>4.2 out of 5 stars</td>\n",
       "    </tr>\n",
       "    <tr>\n",
       "      <th>25</th>\n",
       "      <td>MageGee G10 Gaming Mouse Wired, Mute 7 Colors ...</td>\n",
       "      <td>1,300.</td>\n",
       "      <td>4.5 out of 5 stars</td>\n",
       "    </tr>\n",
       "    <tr>\n",
       "      <th>26</th>\n",
       "      <td>ASUS TUF Gaming A15, 15.6-inch (39.62 cms) FHD...</td>\n",
       "      <td>49,990.</td>\n",
       "      <td>4.3 out of 5 stars</td>\n",
       "    </tr>\n",
       "    <tr>\n",
       "      <th>27</th>\n",
       "      <td>Redgear Cloak Wired RGB Wired Over Ear Gaming ...</td>\n",
       "      <td>499.</td>\n",
       "      <td>4.0 out of 5 stars</td>\n",
       "    </tr>\n",
       "    <tr>\n",
       "      <th>28</th>\n",
       "      <td>Redgear A-10 Wired Gaming Mouse with RGB LED, ...</td>\n",
       "      <td>249.</td>\n",
       "      <td>4.3 out of 5 stars</td>\n",
       "    </tr>\n",
       "    <tr>\n",
       "      <th>29</th>\n",
       "      <td>Redgear Cosmo 7,1 USB Gaming Wired Over Ear He...</td>\n",
       "      <td>1,699.</td>\n",
       "      <td>4.3 out of 5 stars</td>\n",
       "    </tr>\n",
       "    <tr>\n",
       "      <th>30</th>\n",
       "      <td>Lenovo IdeaCentre Gaming 5 Desktop (AMD Ryzen ...</td>\n",
       "      <td>97,490.</td>\n",
       "      <td>4.4 out of 5 stars</td>\n",
       "    </tr>\n",
       "    <tr>\n",
       "      <th>31</th>\n",
       "      <td>Lenovo Legion Tower 5 Gaming Desktop (AMD Ryze...</td>\n",
       "      <td>1,49,490.</td>\n",
       "      <td>4.4 out of 5 stars</td>\n",
       "    </tr>\n",
       "    <tr>\n",
       "      <th>32</th>\n",
       "      <td>Electrobot Gaming Tower PC - Ryzen 3500X, RTX ...</td>\n",
       "      <td>65,999.</td>\n",
       "      <td>4.8 out of 5 stars</td>\n",
       "    </tr>\n",
       "    <tr>\n",
       "      <th>33</th>\n",
       "      <td>CHIST Gaming Tower PC AMD Radeon Graphics Wind...</td>\n",
       "      <td>42,700.</td>\n",
       "      <td>5.0 out of 5 stars</td>\n",
       "    </tr>\n",
       "  </tbody>\n",
       "</table>\n",
       "</div>"
      ],
      "text/plain": [
       "                                         Product Name      Price  \\\n",
       "0   JBL Quantum 100, Wired Over Ear Gaming Headpho...     2,299.   \n",
       "1   Kreo Falcon Gaming Mouse with Programmable But...     1,790.   \n",
       "2   ASUS TUF Gaming A15, 15.6-inch (39.62 cms) FHD...    49,990.   \n",
       "3   Logitech G304 Lightspeed Wireless Gaming Mouse...     3,095.   \n",
       "4   Redgear Cloak Wired RGB Wired Over Ear Gaming ...       499.   \n",
       "5   Redgear A-10 Wired Gaming Mouse with RGB LED, ...       249.   \n",
       "6   Zebronics Jet PRO Premium Wired Gaming On Ear ...       899.   \n",
       "7   boAt Immortal 121 TWS Gaming Truly Wireless in...     1,499.   \n",
       "8   COOLCOLD Viboton Rechargeable Gaming Mouse Wir...       698.   \n",
       "9   Redgear Cosmo 7,1 USB Gaming Wired Over Ear He...     1,699.   \n",
       "10  GSH One Hand Non Mechanical Gaming Keyboard an...     3,994.   \n",
       "11  EvoFox Elite Ops Wireless Gamepad for Android ...     1,424.   \n",
       "12  ASUS TUF Gaming F15 (2023) 90WHr Battery, Inte...  1,15,990.   \n",
       "13  Tukzer RGB Gaming Mouse Pad with 4 USB HUB, La...     1,599.   \n",
       "14               Amazon Basics Gaming Headset - Green       599.   \n",
       "15  Tukzer RGB Gaming Mouse Pad with 4 USB HUB, La...     1,599.   \n",
       "16  Amazon Basics Wired Gaming Keyboard and Mouse ...     1,199.   \n",
       "17  HP M270 Backlit USB Wired Gaming Mouse with 6 ...       390.   \n",
       "18  VEROX Wireless Gaming TWS Earbuds with RGB LED...     1,099.   \n",
       "19  Ambrane Wireless Gaming Controller with Transp...     1,999.   \n",
       "20  Amkette EvoFox Fireblade Membrane Wired Gaming...       899.   \n",
       "21  Lenovo IdeaPad Gaming 3 Intel Core i5 11th Gen...    55,990.   \n",
       "22  Ant Esports GM320 RGB Optical Wired Gaming Mou...       559.   \n",
       "23  Redgear A-17 Gaming Mouse with Upto 6400 DPI, ...       399.   \n",
       "24  Ambrane Trone Wired Gaming Mouse with 7 Progra...       490.   \n",
       "25  MageGee G10 Gaming Mouse Wired, Mute 7 Colors ...     1,300.   \n",
       "26  ASUS TUF Gaming A15, 15.6-inch (39.62 cms) FHD...    49,990.   \n",
       "27  Redgear Cloak Wired RGB Wired Over Ear Gaming ...       499.   \n",
       "28  Redgear A-10 Wired Gaming Mouse with RGB LED, ...       249.   \n",
       "29  Redgear Cosmo 7,1 USB Gaming Wired Over Ear He...     1,699.   \n",
       "30  Lenovo IdeaCentre Gaming 5 Desktop (AMD Ryzen ...    97,490.   \n",
       "31  Lenovo Legion Tower 5 Gaming Desktop (AMD Ryze...  1,49,490.   \n",
       "32  Electrobot Gaming Tower PC - Ryzen 3500X, RTX ...    65,999.   \n",
       "33  CHIST Gaming Tower PC AMD Radeon Graphics Wind...    42,700.   \n",
       "\n",
       "                Rating  \n",
       "0   4.0 out of 5 stars  \n",
       "1   5.0 out of 5 stars  \n",
       "2   4.3 out of 5 stars  \n",
       "3   4.5 out of 5 stars  \n",
       "4   4.0 out of 5 stars  \n",
       "5   4.3 out of 5 stars  \n",
       "6   3.9 out of 5 stars  \n",
       "7   3.8 out of 5 stars  \n",
       "8   3.9 out of 5 stars  \n",
       "9   4.3 out of 5 stars  \n",
       "10  3.6 out of 5 stars  \n",
       "11  3.9 out of 5 stars  \n",
       "12  4.8 out of 5 stars  \n",
       "13  4.3 out of 5 stars  \n",
       "14  3.9 out of 5 stars  \n",
       "15  4.5 out of 5 stars  \n",
       "16  4.0 out of 5 stars  \n",
       "17  4.2 out of 5 stars  \n",
       "18  2.0 out of 5 stars  \n",
       "19  3.8 out of 5 stars  \n",
       "20  4.1 out of 5 stars  \n",
       "21  4.1 out of 5 stars  \n",
       "22  4.4 out of 5 stars  \n",
       "23  4.2 out of 5 stars  \n",
       "24  4.2 out of 5 stars  \n",
       "25  4.5 out of 5 stars  \n",
       "26  4.3 out of 5 stars  \n",
       "27  4.0 out of 5 stars  \n",
       "28  4.3 out of 5 stars  \n",
       "29  4.3 out of 5 stars  \n",
       "30  4.4 out of 5 stars  \n",
       "31  4.4 out of 5 stars  \n",
       "32  4.8 out of 5 stars  \n",
       "33  5.0 out of 5 stars  "
      ]
     },
     "execution_count": 49,
     "metadata": {},
     "output_type": "execute_result"
    }
   ],
   "source": [
    "df"
   ]
  },
  {
   "cell_type": "code",
   "execution_count": 50,
   "id": "ddb7cd66",
   "metadata": {},
   "outputs": [
    {
     "data": {
      "text/plain": [
       "0     JBL Quantum 100, Wired Over Ear Gaming Headpho...\n",
       "1     Kreo Falcon Gaming Mouse with Programmable But...\n",
       "2     ASUS TUF Gaming A15, 15.6-inch (39.62 cms) FHD...\n",
       "3     Logitech G304 Lightspeed Wireless Gaming Mouse...\n",
       "4     Redgear Cloak Wired RGB Wired Over Ear Gaming ...\n",
       "5     Redgear A-10 Wired Gaming Mouse with RGB LED, ...\n",
       "6     Zebronics Jet PRO Premium Wired Gaming On Ear ...\n",
       "7     boAt Immortal 121 TWS Gaming Truly Wireless in...\n",
       "8     COOLCOLD Viboton Rechargeable Gaming Mouse Wir...\n",
       "9     Redgear Cosmo 7,1 USB Gaming Wired Over Ear He...\n",
       "10    GSH One Hand Non Mechanical Gaming Keyboard an...\n",
       "11    EvoFox Elite Ops Wireless Gamepad for Android ...\n",
       "12    ASUS TUF Gaming F15 (2023) 90WHr Battery, Inte...\n",
       "13    Tukzer RGB Gaming Mouse Pad with 4 USB HUB, La...\n",
       "14                 Amazon Basics Gaming Headset - Green\n",
       "15    Tukzer RGB Gaming Mouse Pad with 4 USB HUB, La...\n",
       "16    Amazon Basics Wired Gaming Keyboard and Mouse ...\n",
       "17    HP M270 Backlit USB Wired Gaming Mouse with 6 ...\n",
       "18    VEROX Wireless Gaming TWS Earbuds with RGB LED...\n",
       "19    Ambrane Wireless Gaming Controller with Transp...\n",
       "20    Amkette EvoFox Fireblade Membrane Wired Gaming...\n",
       "21    Lenovo IdeaPad Gaming 3 Intel Core i5 11th Gen...\n",
       "22    Ant Esports GM320 RGB Optical Wired Gaming Mou...\n",
       "23    Redgear A-17 Gaming Mouse with Upto 6400 DPI, ...\n",
       "24    Ambrane Trone Wired Gaming Mouse with 7 Progra...\n",
       "25    MageGee G10 Gaming Mouse Wired, Mute 7 Colors ...\n",
       "26    ASUS TUF Gaming A15, 15.6-inch (39.62 cms) FHD...\n",
       "27    Redgear Cloak Wired RGB Wired Over Ear Gaming ...\n",
       "28    Redgear A-10 Wired Gaming Mouse with RGB LED, ...\n",
       "29    Redgear Cosmo 7,1 USB Gaming Wired Over Ear He...\n",
       "30    Lenovo IdeaCentre Gaming 5 Desktop (AMD Ryzen ...\n",
       "31    Lenovo Legion Tower 5 Gaming Desktop (AMD Ryze...\n",
       "32    Electrobot Gaming Tower PC - Ryzen 3500X, RTX ...\n",
       "33    CHIST Gaming Tower PC AMD Radeon Graphics Wind...\n",
       "Name: Product Name, dtype: object"
      ]
     },
     "execution_count": 50,
     "metadata": {},
     "output_type": "execute_result"
    }
   ],
   "source": [
    "df['Product Name']"
   ]
  },
  {
   "cell_type": "code",
   "execution_count": null,
   "id": "625cb45d",
   "metadata": {},
   "outputs": [],
   "source": []
  }
 ],
 "metadata": {
  "kernelspec": {
   "display_name": "Python 3 (ipykernel)",
   "language": "python",
   "name": "python3"
  },
  "language_info": {
   "codemirror_mode": {
    "name": "ipython",
    "version": 3
   },
   "file_extension": ".py",
   "mimetype": "text/x-python",
   "name": "python",
   "nbconvert_exporter": "python",
   "pygments_lexer": "ipython3",
   "version": "3.9.7"
  }
 },
 "nbformat": 4,
 "nbformat_minor": 5
}
